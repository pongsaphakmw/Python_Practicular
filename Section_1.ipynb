{
 "cells": [
  {
   "cell_type": "code",
   "execution_count": 1,
   "id": "6525c035-5297-4c60-9b72-ef0ae54485cf",
   "metadata": {},
   "outputs": [
    {
     "name": "stdout",
     "output_type": "stream",
     "text": [
      "Hello world\n"
     ]
    }
   ],
   "source": [
    "print(\"Hello world\")"
   ]
  },
  {
   "cell_type": "code",
   "execution_count": 1,
   "id": "6f7e8a34-001c-4ac4-ab44-0e286b350e8f",
   "metadata": {},
   "outputs": [
    {
     "name": "stdout",
     "output_type": "stream",
     "text": [
      "Hello\n"
     ]
    }
   ],
   "source": [
    "print(\"Hello\")"
   ]
  },
  {
   "cell_type": "code",
   "execution_count": 2,
   "id": "06add4ef-b8a2-407c-961b-be03a07a0d5f",
   "metadata": {},
   "outputs": [
    {
     "name": "stdout",
     "output_type": "stream",
     "text": [
      "hello_python\n"
     ]
    }
   ],
   "source": [
    "print('hello_python')"
   ]
  },
  {
   "cell_type": "code",
   "execution_count": 4,
   "id": "d4f52013-fb38-4d1d-891b-7586bef5072e",
   "metadata": {},
   "outputs": [
    {
     "name": "stdout",
     "output_type": "stream",
     "text": [
      "Merry X'mas\n"
     ]
    }
   ],
   "source": [
    "print(\"Merry X'mas\")"
   ]
  },
  {
   "cell_type": "code",
   "execution_count": 8,
   "id": "cd8a1767-cdf2-47eb-b4fd-31316a9dfe25",
   "metadata": {},
   "outputs": [
    {
     "name": "stdout",
     "output_type": "stream",
     "text": [
      "I want to ask you \"why don't you drive to work?\"\n"
     ]
    }
   ],
   "source": [
    "print('''I want to ask you \"why don't you drive to work?\"''')"
   ]
  },
  {
   "cell_type": "code",
   "execution_count": 9,
   "id": "548dd7e8-526f-4038-8002-49fc272c5219",
   "metadata": {},
   "outputs": [
    {
     "name": "stdout",
     "output_type": "stream",
     "text": [
      "\"I don't have a car\"\n"
     ]
    }
   ],
   "source": [
    "print('''\"I don't have a car\"''')"
   ]
  },
  {
   "cell_type": "code",
   "execution_count": 10,
   "id": "fd345f7c-48c1-4b16-9013-ebe9879ef9c1",
   "metadata": {},
   "outputs": [
    {
     "name": "stdout",
     "output_type": "stream",
     "text": [
      "You goy a new job!? That's so exciting\n"
     ]
    }
   ],
   "source": [
    "print(\"You goy a new job!? That's so exciting\")"
   ]
  },
  {
   "cell_type": "code",
   "execution_count": 11,
   "id": "1ad10a82-4133-454f-b801-9c8440c8babb",
   "metadata": {},
   "outputs": [
    {
     "name": "stdout",
     "output_type": "stream",
     "text": [
      "สวัสดีวันจันทร์\n"
     ]
    }
   ],
   "source": [
    "print('สวัสดีวันจันทร์')"
   ]
  },
  {
   "cell_type": "code",
   "execution_count": 12,
   "id": "cb0d2199-ae2d-49af-b934-3db45749d0e2",
   "metadata": {},
   "outputs": [
    {
     "name": "stdout",
     "output_type": "stream",
     "text": [
      "ความแตกต่างระหว่างคนเก่งกับคนไม่เก่ง คือ \"การใช้เวลาว่างให้เป็นประโยชน์\"\n"
     ]
    }
   ],
   "source": [
    "print('ความแตกต่างระหว่างคนเก่งกับคนไม่เก่ง คือ \"การใช้เวลาว่างให้เป็นประโยชน์\"')"
   ]
  },
  {
   "cell_type": "code",
   "execution_count": 13,
   "id": "24fa09d6-bcf6-4c2e-9cb6-c7aae71effb3",
   "metadata": {},
   "outputs": [
    {
     "name": "stdout",
     "output_type": "stream",
     "text": [
      "^^^\n"
     ]
    }
   ],
   "source": [
    "print('^^^')"
   ]
  },
  {
   "cell_type": "code",
   "execution_count": 14,
   "id": "40da8e1d-646b-4d3a-920a-b071be59c194",
   "metadata": {},
   "outputs": [
    {
     "name": "stdout",
     "output_type": "stream",
     "text": [
      "\n",
      "a\n",
      "an\n",
      "ant\n",
      "\n"
     ]
    }
   ],
   "source": [
    "print('''\n",
    "a\n",
    "an\n",
    "ant\n",
    "''')"
   ]
  },
  {
   "cell_type": "code",
   "execution_count": 15,
   "id": "c3b0ce1a-5eef-4d13-8645-893dcb2a4c3f",
   "metadata": {},
   "outputs": [
    {
     "name": "stdout",
     "output_type": "stream",
     "text": [
      "\n",
      "    *\n",
      "*   *   *\n",
      "    *\n",
      "\n"
     ]
    }
   ],
   "source": [
    "print('''\n",
    "    *\n",
    "*   *   *\n",
    "    *\n",
    "''')"
   ]
  },
  {
   "cell_type": "code",
   "execution_count": 16,
   "id": "daaba2fd-d179-47a0-9468-cb3f609fb29d",
   "metadata": {},
   "outputs": [
    {
     "name": "stdout",
     "output_type": "stream",
     "text": [
      "\n",
      "*   +   *\n",
      "+   *   +\n",
      "*   +   *\n",
      "\n"
     ]
    }
   ],
   "source": [
    "print('''\n",
    "*   +   *\n",
    "+   *   +\n",
    "*   +   *\n",
    "''')"
   ]
  },
  {
   "cell_type": "code",
   "execution_count": 17,
   "id": "8935ac76-cb71-4a61-94e9-0a478ffd73be",
   "metadata": {},
   "outputs": [
    {
     "name": "stdout",
     "output_type": "stream",
     "text": [
      "\n",
      "Just because something\n",
      "thinks differently from you,\n",
      "does that mean it's not thinking?\n",
      "\n"
     ]
    }
   ],
   "source": [
    "print('''\n",
    "Just because something\n",
    "thinks differently from you,\n",
    "does that mean it's not thinking?\n",
    "''')"
   ]
  },
  {
   "cell_type": "code",
   "execution_count": 19,
   "id": "75fa9874-1a5b-40ee-8296-aa13207b2b99",
   "metadata": {},
   "outputs": [
    {
     "name": "stdout",
     "output_type": "stream",
     "text": [
      "\n",
      "\\       /\n",
      "    x\n",
      "/       \\\n",
      "\n"
     ]
    }
   ],
   "source": [
    "print('''\n",
    "\\       /\n",
    "    x\n",
    "/       \\\\\n",
    "''')"
   ]
  },
  {
   "cell_type": "code",
   "execution_count": 20,
   "id": "17bcd6bb-294f-4550-9d25-b3b7a242ee69",
   "metadata": {},
   "outputs": [
    {
     "name": "stdout",
     "output_type": "stream",
     "text": [
      "25\n"
     ]
    }
   ],
   "source": [
    "print('25')"
   ]
  },
  {
   "cell_type": "code",
   "execution_count": 21,
   "id": "9153ab5e-2571-4565-9a4a-5551eac2c072",
   "metadata": {},
   "outputs": [
    {
     "name": "stdout",
     "output_type": "stream",
     "text": [
      "100.000000\n"
     ]
    }
   ],
   "source": [
    "print('100.000000')"
   ]
  },
  {
   "cell_type": "code",
   "execution_count": 28,
   "id": "a779b91b-1217-42b1-813d-759c2ac1faf0",
   "metadata": {},
   "outputs": [
    {
     "data": {
      "text/plain": [
       "'3.141592653589793'"
      ]
     },
     "execution_count": 28,
     "metadata": {},
     "output_type": "execute_result"
    }
   ],
   "source": [
    "from math import pi\n",
    "format(pi, '.15f')"
   ]
  },
  {
   "cell_type": "code",
   "execution_count": 29,
   "id": "f1ae85e8-79bd-4239-a68c-4643e576c9c7",
   "metadata": {},
   "outputs": [
    {
     "name": "stdout",
     "output_type": "stream",
     "text": [
      "2\n"
     ]
    }
   ],
   "source": [
    "a = 2\n",
    "print(a)"
   ]
  },
  {
   "cell_type": "code",
   "execution_count": 30,
   "id": "e4a833f5-75e4-4402-87cb-a54808cccfd2",
   "metadata": {},
   "outputs": [
    {
     "name": "stdout",
     "output_type": "stream",
     "text": [
      "12.5\n"
     ]
    }
   ],
   "source": [
    "a = 12.5\n",
    "print(a)"
   ]
  },
  {
   "cell_type": "code",
   "execution_count": 43,
   "id": "71a8e42a-6e2e-4e22-86b7-9327842e0078",
   "metadata": {},
   "outputs": [
    {
     "name": "stdout",
     "output_type": "stream",
     "text": [
      "2 x 3 = 6\n"
     ]
    }
   ],
   "source": [
    "a = 2\n",
    "b = 3\n",
    "sum = a*b\n",
    "print(a, 'x', b ,'=', sum)"
   ]
  },
  {
   "cell_type": "code",
   "execution_count": 44,
   "id": "ad0c3445-737c-4348-bdc5-8e8b6547ca25",
   "metadata": {},
   "outputs": [
    {
     "name": "stdout",
     "output_type": "stream",
     "text": [
      "2 + 3 = 3 + 2 = 5\n"
     ]
    }
   ],
   "source": [
    "a = 2\n",
    "b = 3\n",
    "sum = a+b\n",
    "print(a,'+',b,'=',b,'+',a,'=',sum)"
   ]
  },
  {
   "cell_type": "code",
   "execution_count": 2,
   "id": "31b29b1a-d51a-4acf-8928-e8b530810993",
   "metadata": {},
   "outputs": [
    {
     "name": "stdout",
     "output_type": "stream",
     "text": [
      "2 *( 3 + 5 ) =  2 * 3 + 3 * 5\n"
     ]
    }
   ],
   "source": [
    "a = 2\n",
    "b = 3\n",
    "c = 5\n",
    "print(a,'*(',b,'+',c,') = ',a,'*',b,'+',b,'*',c)"
   ]
  },
  {
   "cell_type": "code",
   "execution_count": 10,
   "id": "2587854a-de4e-4730-a14f-2cc81466542a",
   "metadata": {},
   "outputs": [
    {
     "name": "stdout",
     "output_type": "stream",
     "text": [
      "2.4 + 2.5 = 4.9000\n"
     ]
    }
   ],
   "source": [
    "a = 2.4\n",
    "b = 2.5\n",
    "print('%.1f + %.1f = %.4f' %(a,b,a+b))"
   ]
  },
  {
   "cell_type": "code",
   "execution_count": 11,
   "id": "338f16de-586b-4a17-b262-14da09b8d475",
   "metadata": {},
   "outputs": [
    {
     "name": "stdout",
     "output_type": "stream",
     "text": [
      "5.00 - 2.00 = 3.0000\n"
     ]
    }
   ],
   "source": [
    "a = 5\n",
    "b = 2\n",
    "print('%.2f - %.2f = %.4f' %(a,b,a-b))"
   ]
  },
  {
   "cell_type": "code",
   "execution_count": 12,
   "id": "ecc5be02-2762-4df8-b5d5-d966d2fc9480",
   "metadata": {},
   "outputs": [
    {
     "name": "stdout",
     "output_type": "stream",
     "text": [
      "ฉันเกิดวันที่ 25 ธันวาคม\n"
     ]
    }
   ],
   "source": [
    "birthday = 25\n",
    "print('ฉันเกิดวันที่',birthday,'ธันวาคม')"
   ]
  },
  {
   "cell_type": "code",
   "execution_count": 13,
   "id": "a0a33cc7-a593-4fb8-83b8-68388d1ce33d",
   "metadata": {},
   "outputs": [
    {
     "name": "stdout",
     "output_type": "stream",
     "text": [
      "5 เท่าของ 100 มีค่าเท่ากับ 500\n"
     ]
    }
   ],
   "source": [
    "a = 5\n",
    "b = 100\n",
    "print(a,'เท่าของ',b,'มีค่าเท่ากับ',a*b)"
   ]
  },
  {
   "cell_type": "code",
   "execution_count": 14,
   "id": "f9e4a9dd-edd7-47eb-9e1f-90fd523925a9",
   "metadata": {},
   "outputs": [
    {
     "name": "stdout",
     "output_type": "stream",
     "text": [
      "เขามีเงินเยอะกว่าฉัน 3.50 บาท\n"
     ]
    }
   ],
   "source": [
    "a = 3.5\n",
    "print('เขามีเงินเยอะกว่าฉัน','%.2f'%(a),'บาท')"
   ]
  },
  {
   "cell_type": "code",
   "execution_count": 15,
   "id": "0a054488-0c93-43ce-8358-13d6fa4de9db",
   "metadata": {},
   "outputs": [
    {
     "name": "stdout",
     "output_type": "stream",
     "text": [
      "ฉันได้กำไร 5 %\n"
     ]
    }
   ],
   "source": [
    "a = 5\n",
    "print('ฉันได้กำไร',a,'%')"
   ]
  },
  {
   "cell_type": "code",
   "execution_count": 16,
   "id": "5518a253-25a6-459b-8e24-0baad1d32ffe",
   "metadata": {},
   "outputs": [
    {
     "name": "stdout",
     "output_type": "stream",
     "text": [
      "เมื่อวานฉันขาดทุน 2 % วันนี้ฉันได้กำไร 3.50 %\n"
     ]
    }
   ],
   "source": [
    "a = 2\n",
    "b = 3.5\n",
    "print('เมื่อวานฉันขาดทุน',a,'%','วันนี้ฉันได้กำไร','%.2f'%(b),'%')"
   ]
  },
  {
   "cell_type": "code",
   "execution_count": null,
   "id": "16c1044e-eba6-4c57-8c3c-a778cba33aae",
   "metadata": {},
   "outputs": [],
   "source": []
  }
 ],
 "metadata": {
  "kernelspec": {
   "display_name": "Python 3",
   "language": "python",
   "name": "python3"
  },
  "language_info": {
   "codemirror_mode": {
    "name": "ipython",
    "version": 3
   },
   "file_extension": ".py",
   "mimetype": "text/x-python",
   "name": "python",
   "nbconvert_exporter": "python",
   "pygments_lexer": "ipython3",
   "version": "3.9.1"
  }
 },
 "nbformat": 4,
 "nbformat_minor": 5
}

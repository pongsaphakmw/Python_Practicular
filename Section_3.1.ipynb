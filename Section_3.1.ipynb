{
 "cells": [
  {
   "cell_type": "code",
   "execution_count": 3,
   "id": "5e83944d-a966-433d-98b5-f0b5b515db0b",
   "metadata": {},
   "outputs": [
    {
     "name": "stdout",
     "output_type": "stream",
     "text": [
      "5\n"
     ]
    },
    {
     "data": {
      "text/plain": [
       "int"
      ]
     },
     "execution_count": 3,
     "metadata": {},
     "output_type": "execute_result"
    }
   ],
   "source": [
    "numeric1 = 5\n",
    "print(numeric1)\n",
    "type(numeric1)"
   ]
  },
  {
   "cell_type": "code",
   "execution_count": 6,
   "id": "8e3995ac-c5d9-4536-8bb7-a8d139d99950",
   "metadata": {},
   "outputs": [
    {
     "name": "stdout",
     "output_type": "stream",
     "text": [
      "-3\n"
     ]
    },
    {
     "data": {
      "text/plain": [
       "int"
      ]
     },
     "execution_count": 6,
     "metadata": {},
     "output_type": "execute_result"
    }
   ],
   "source": [
    "numeric2 = -3\n",
    "print(numeric2)\n",
    "type(numeric2)"
   ]
  },
  {
   "cell_type": "code",
   "execution_count": 7,
   "id": "30aa87ef-8763-41db-ba56-c49facbe2117",
   "metadata": {},
   "outputs": [
    {
     "name": "stdout",
     "output_type": "stream",
     "text": [
      "0\n"
     ]
    },
    {
     "data": {
      "text/plain": [
       "int"
      ]
     },
     "execution_count": 7,
     "metadata": {},
     "output_type": "execute_result"
    }
   ],
   "source": [
    "numeric3 = 0\n",
    "print(numeric3)\n",
    "type(numeric3)"
   ]
  },
  {
   "cell_type": "code",
   "execution_count": 8,
   "id": "06b793b9-b6c2-4f8d-8601-c75ea0f9a760",
   "metadata": {},
   "outputs": [
    {
     "name": "stdin",
     "output_type": "stream",
     "text": [
      " 5\n"
     ]
    },
    {
     "name": "stdout",
     "output_type": "stream",
     "text": [
      "5\n"
     ]
    },
    {
     "data": {
      "text/plain": [
       "str"
      ]
     },
     "execution_count": 8,
     "metadata": {},
     "output_type": "execute_result"
    }
   ],
   "source": [
    "x = int(input())\n",
    "print(x)\n",
    "type(x)"
   ]
  },
  {
   "cell_type": "code",
   "execution_count": 9,
   "id": "c7da0993-cfd9-45ab-8c09-8c6f78437640",
   "metadata": {},
   "outputs": [
    {
     "name": "stdout",
     "output_type": "stream",
     "text": [
      "5.0\n"
     ]
    },
    {
     "data": {
      "text/plain": [
       "float"
      ]
     },
     "execution_count": 9,
     "metadata": {},
     "output_type": "execute_result"
    }
   ],
   "source": [
    "numeric1 = 5.0\n",
    "print(numeric1)\n",
    "type(numeric1)"
   ]
  },
  {
   "cell_type": "code",
   "execution_count": 10,
   "id": "c062ee18-e9e8-435a-9b8a-dbc5b05c3cb8",
   "metadata": {},
   "outputs": [
    {
     "name": "stdout",
     "output_type": "stream",
     "text": [
      "-3.1\n"
     ]
    },
    {
     "data": {
      "text/plain": [
       "float"
      ]
     },
     "execution_count": 10,
     "metadata": {},
     "output_type": "execute_result"
    }
   ],
   "source": [
    "numeric2 = -3.1\n",
    "print(numeric2)\n",
    "type(numeric2)"
   ]
  },
  {
   "cell_type": "code",
   "execution_count": 11,
   "id": "ae32bdf3-6084-481d-9907-98f4889980c6",
   "metadata": {},
   "outputs": [
    {
     "name": "stdout",
     "output_type": "stream",
     "text": [
      "0.0\n"
     ]
    },
    {
     "data": {
      "text/plain": [
       "float"
      ]
     },
     "execution_count": 11,
     "metadata": {},
     "output_type": "execute_result"
    }
   ],
   "source": [
    "numeric3 = 0.0\n",
    "print(numeric3)\n",
    "type(numeric3)"
   ]
  },
  {
   "cell_type": "code",
   "execution_count": 14,
   "id": "26146edc-b6c8-4616-bb60-630a08f877f6",
   "metadata": {},
   "outputs": [
    {
     "name": "stdin",
     "output_type": "stream",
     "text": [
      " 10\n"
     ]
    },
    {
     "name": "stdout",
     "output_type": "stream",
     "text": [
      "10\n"
     ]
    },
    {
     "data": {
      "text/plain": [
       "int"
      ]
     },
     "execution_count": 14,
     "metadata": {},
     "output_type": "execute_result"
    }
   ],
   "source": [
    "x = int(input())\n",
    "print(x)\n",
    "type(x)"
   ]
  },
  {
   "cell_type": "code",
   "execution_count": 23,
   "id": "a97158cb-d0ed-4390-bdbe-97a9b67d0623",
   "metadata": {},
   "outputs": [
    {
     "name": "stdin",
     "output_type": "stream",
     "text": [
      " 30\n",
      " 10\n"
     ]
    },
    {
     "name": "stdout",
     "output_type": "stream",
     "text": [
      "30 10\n",
      "\n",
      " x+y =  40 <class 'int'>\n",
      "\n",
      " x-y =  20 <class 'int'>\n",
      "\n",
      " x*y =  300 <class 'int'>\n",
      "\n",
      " x/y =  3 <class 'int'>\n"
     ]
    }
   ],
   "source": [
    "x = int(input())\n",
    "y = int(input())\n",
    "print(x,y)\n",
    "type(x)\n",
    "type(y)\n",
    "a = x+y\n",
    "print('\\n x+y = ',a,type(a))\n",
    "b = x-y\n",
    "print('\\n x-y = ',b,type(b))\n",
    "c = x*y\n",
    "print('\\n x*y = ',c,type(c))\n",
    "d = x//y\n",
    "print('\\n x/y = ',d,type(d))\n",
    "#โอ้พระเจ้าวุ่นวายมาก"
   ]
  },
  {
   "cell_type": "code",
   "execution_count": 25,
   "id": "acc6e3c3-9ec3-459f-9c2a-c6ce52a56456",
   "metadata": {},
   "outputs": [
    {
     "name": "stdin",
     "output_type": "stream",
     "text": [
      " 30\n",
      " 10\n"
     ]
    },
    {
     "name": "stdout",
     "output_type": "stream",
     "text": [
      "30.0 10.0 <class 'float'> <class 'float'>\n",
      "\n",
      " x+y =  40.0 <class 'float'>\n",
      "\n",
      " x-y =  20.0 <class 'float'>\n",
      "\n",
      " x*y =  300.0 <class 'float'>\n",
      "\n",
      " x/y =  3.0 <class 'float'>\n"
     ]
    }
   ],
   "source": [
    "x = float(input())\n",
    "y = float(input())\n",
    "print(x,y,type(x),type(y))\n",
    "a = x+y\n",
    "print('\\n x+y = ',a,type(a))\n",
    "b = x-y\n",
    "print('\\n x-y = ',b,type(b))\n",
    "c = x*y\n",
    "print('\\n x*y = ',c,type(c))\n",
    "d = x//y\n",
    "print('\\n x/y = ',d,type(d))"
   ]
  },
  {
   "cell_type": "code",
   "execution_count": 26,
   "id": "bcbc7665-ec39-4cf6-8d13-873d42a46e43",
   "metadata": {},
   "outputs": [
    {
     "name": "stdin",
     "output_type": "stream",
     "text": [
      " 30\n",
      " 10\n"
     ]
    },
    {
     "name": "stdout",
     "output_type": "stream",
     "text": [
      "30 10.0 <class 'int'> <class 'float'>\n",
      "\n",
      " x+y =  40.0 <class 'float'>\n",
      "\n",
      " x-y =  20.0 <class 'float'>\n",
      "\n",
      " x*y =  300.0 <class 'float'>\n",
      "\n",
      " x/y =  3.0 <class 'float'>\n"
     ]
    }
   ],
   "source": [
    "x = int(input())\n",
    "y = float(input())\n",
    "print(x,y,type(x),type(a))\n",
    "a = x+y\n",
    "print('\\n x+y = ',a,type(a))\n",
    "b = x-y\n",
    "print('\\n x-y = ',b,type(b))\n",
    "c = x*y\n",
    "print('\\n x*y = ',c,type(c))\n",
    "d = x//y\n",
    "print('\\n x/y = ',d,type(d))"
   ]
  },
  {
   "cell_type": "code",
   "execution_count": 29,
   "id": "6c40dfbe-f966-4147-b57e-2707c9cfd770",
   "metadata": {},
   "outputs": [
    {
     "name": "stdout",
     "output_type": "stream",
     "text": [
      "True\n"
     ]
    },
    {
     "data": {
      "text/plain": [
       "bool"
      ]
     },
     "execution_count": 29,
     "metadata": {},
     "output_type": "execute_result"
    }
   ],
   "source": [
    "logic1 = True\n",
    "print(logic1)\n",
    "type(logic1)"
   ]
  },
  {
   "cell_type": "code",
   "execution_count": 30,
   "id": "cf567e92-12ec-4c20-8e79-b6f24160ce62",
   "metadata": {},
   "outputs": [
    {
     "name": "stdout",
     "output_type": "stream",
     "text": [
      "False\n"
     ]
    },
    {
     "data": {
      "text/plain": [
       "bool"
      ]
     },
     "execution_count": 30,
     "metadata": {},
     "output_type": "execute_result"
    }
   ],
   "source": [
    "logic2 = False\n",
    "print(logic2)\n",
    "type(logic2)"
   ]
  },
  {
   "cell_type": "code",
   "execution_count": 32,
   "id": "d2fac4cb-031c-47e5-a789-cfce34ea3030",
   "metadata": {},
   "outputs": [
    {
     "name": "stdout",
     "output_type": "stream",
     "text": [
      "False\n"
     ]
    }
   ],
   "source": [
    "logic1 = True\n",
    "logic2 = False\n",
    "print(logic1 and logic2)"
   ]
  },
  {
   "cell_type": "code",
   "execution_count": 33,
   "id": "525907d2-8df9-4256-bce8-f7d2ceee6ac3",
   "metadata": {},
   "outputs": [
    {
     "name": "stdout",
     "output_type": "stream",
     "text": [
      "True\n"
     ]
    }
   ],
   "source": [
    "logic1 = True\n",
    "logic2 = False\n",
    "print(logic1 or logic2)"
   ]
  },
  {
   "cell_type": "code",
   "execution_count": 34,
   "id": "3040950f-c32e-4a84-9692-ecfeb0de1c93",
   "metadata": {},
   "outputs": [
    {
     "name": "stdout",
     "output_type": "stream",
     "text": [
      "(1+2j) <class 'complex'>\n"
     ]
    }
   ],
   "source": [
    "complex1 = 1 + 2j\n",
    "print(complex1,type(complex1))"
   ]
  },
  {
   "cell_type": "code",
   "execution_count": 35,
   "id": "c4b2d4e3-da72-444e-8cce-503001c4a143",
   "metadata": {},
   "outputs": [
    {
     "name": "stdout",
     "output_type": "stream",
     "text": [
      "1.0\n"
     ]
    }
   ],
   "source": [
    "complex1 = 1 + 2j\n",
    "print(complex1.real)\n",
    "#บางอ้อเป็นประโยชน์มาก"
   ]
  },
  {
   "cell_type": "code",
   "execution_count": 36,
   "id": "8882be59-5b36-4976-a571-4a9f624fd782",
   "metadata": {},
   "outputs": [
    {
     "name": "stdout",
     "output_type": "stream",
     "text": [
      "2.0\n"
     ]
    }
   ],
   "source": [
    "complex1 = 1 + 2j\n",
    "print(complex1.imag)"
   ]
  },
  {
   "cell_type": "code",
   "execution_count": null,
   "id": "f3eb8f46-5227-40fb-ac54-67fe6aa49739",
   "metadata": {},
   "outputs": [],
   "source": []
  }
 ],
 "metadata": {
  "kernelspec": {
   "display_name": "Python 3",
   "language": "python",
   "name": "python3"
  },
  "language_info": {
   "codemirror_mode": {
    "name": "ipython",
    "version": 3
   },
   "file_extension": ".py",
   "mimetype": "text/x-python",
   "name": "python",
   "nbconvert_exporter": "python",
   "pygments_lexer": "ipython3",
   "version": "3.9.1"
  }
 },
 "nbformat": 4,
 "nbformat_minor": 5
}
